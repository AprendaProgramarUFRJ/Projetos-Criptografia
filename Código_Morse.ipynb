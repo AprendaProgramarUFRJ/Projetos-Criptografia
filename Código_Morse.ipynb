{
  "nbformat": 4,
  "nbformat_minor": 0,
  "metadata": {
    "colab": {
      "provenance": []
    },
    "kernelspec": {
      "name": "python3",
      "display_name": "Python 3"
    },
    "language_info": {
      "name": "python"
    }
  },
  "cells": [
    {
      "cell_type": "markdown",
      "source": [
        "# Código Morse"
      ],
      "metadata": {
        "id": "7Yzk-e-oRRLC"
      }
    },
    {
      "cell_type": "code",
      "execution_count": null,
      "metadata": {
        "id": "eEf31SoORF24"
      },
      "outputs": [],
      "source": [
        "# Código Morse\n",
        "\n",
        "# Este Código tem como entrada uma frase, que está criptografada, e como saída esta mesma frase descriptografada\n",
        "\n",
        "# Primeiro é importante definir um dicionário\n",
        "codigo_morse = {'A': '.-', 'B': '-...', 'C': '-.-.', 'D': '-..', 'E': '.', 'F': '..-.', 'G': '--.', 'H': '....','I': '..', 'J': '.---', 'K': '-.-',\n",
        "                'L': '.-..', 'M': '--', 'N': '-.', 'O': '---', 'P': '.--.','Q': '--.-', 'R': '.-.', 'S': '...', 'T': '-', 'U': '..-', 'V': '...-',\n",
        "                'W': '.--', 'X': '-..-','Y': '-.--', 'Z': '--..', '0': '-----', '1': '.----', '2': '..---', '3': '...--', '4': '....-','5': '.....', '6': '-....', '7': '--...', '8': '---..', '9': '----.'}\n",
        "\n",
        "validar = True\n",
        "while validar:\n",
        "    frase_criptografada = input('''Digite a frase em código morse: \n",
        "    OBSERVAÇÃO: Separe as letras por 1 espaço, e as palavras por 2 espaços!!''')\n",
        "    for letra in frase_criptografada:\n",
        "        if letra not in \".- \":\n",
        "            print('Essa frase possui caractéres inválidos. Digite novamente!')\n",
        "            break\n",
        "        else:\n",
        "            validar = False\n",
        "\n",
        "# Primeiro, vamos adicionar um espaço ao final da nossa frase criptografada\n",
        "# Isso servirá para sabermos quando a nossa frase acabou\n",
        "frase_criptografada = frase_criptografada + ' '\n",
        "frase_descriptografada = '' # Essa variável vai guardar a nossa frase descriptografada\n",
        "# Criaremos uma variável denominada \"código\", que armazenará os . e - de cada letra\n",
        "codigo = '' # Ao final de cada letra, essa variável é \"zerada\"\n",
        "for letra in frase_criptografada: # Vamos percorrer toda a nossa frase\n",
        "# Sempre que tiver um espaço, sabemos que o código da letra acabou\n",
        "    if letra != ' ': # Então, se não for espaço, ainda é o código da letra\n",
        "        espaços = 0 # No início, a quantidade de espaços que temos é 0\n",
        "        codigo = codigo + letra # Adicionamos a letra da frase na variável \"código\"\n",
        "    else: # Se for espaço\n",
        "        espaços = espaços + 1 # Então adicionamos 1 à nossa variável espaços\n",
        "        if espaços == 2: # Se tivermos 2 espaços consecutivos, é um sinal de que temos uma separação de palavras\n",
        "            # Então, adicionamos um espaço à nossa frase para separar as palavras\n",
        "            frase_descriptografada = frase_descriptografada + ' '\n",
        "        else: # Aqui que transformamos cada código em letra\n",
        "            frase_descriptografada = frase_descriptografada + list(codigo_morse.keys())[list(codigo_morse.values()).index(codigo)]\n",
        "            codigo = '' # Depois de descriptografar a letra, \"zeramos\" a nossa variável\n",
        "\n",
        "print(f'A frase descriptografada é: \"{frase_descriptografada}\"')\n"
      ]
    }
  ]
}