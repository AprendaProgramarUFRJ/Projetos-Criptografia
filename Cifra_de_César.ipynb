{
  "nbformat": 4,
  "nbformat_minor": 0,
  "metadata": {
    "colab": {
      "provenance": []
    },
    "kernelspec": {
      "name": "python3",
      "display_name": "Python 3"
    },
    "language_info": {
      "name": "python"
    }
  },
  "cells": [
    {
      "cell_type": "markdown",
      "source": [
        "# O que é Python?\n",
        "\n",
        "Python é uma linguagem de programação. \n",
        "\n",
        "É uma linguagem que o computador entende e realiza as tarefas que a gente escrever.\n",
        "\n",
        "Podemos escrever palavras, números, realizar operações, fazer comparações... \n",
        "\n",
        "Muitas coisas! Observe abaixo:"
      ],
      "metadata": {
        "id": "nQ7cGjGSDqjo"
      }
    },
    {
      "cell_type": "markdown",
      "source": [
        "# Cifra de César\n",
        "\n",
        "Você lembra da Cifra de César?\n",
        "\n",
        "![](https://drive.google.com/uc?export=view&id=157FKQMvHGHQcjI9SkdyciksTCGRItv6Z)\n",
        "\n",
        "\n",
        "Nessa aula iremos programar a Cifra de César usando o Python."
      ],
      "metadata": {
        "id": "kRmRl9bIU9ed"
      }
    },
    {
      "cell_type": "code",
      "source": [
        "texto = input('Digite a mensagem a ser encriptada ou decifrada: ')   # Solicitando o texto a ser encriptado ou decriptado:\n",
        "\n",
        "chave = int(input('Entre com o valor da chave (deslocamento): '))    # Chave a ser utilizada\n",
        "\n",
        "modo = input('Escolha E para encriptar ou D para decriptar o texto: ')   # Determinar modo de operação (E = encriptar; D = decriptar)\n",
        "\n",
        "CARACTERES = 'ABCDEFGHIJKLMNOPQRSTUVWXYZ'    # Conjunto de caracteres válidos no algoritmo\n",
        "\n",
        "convertido = ''   # Variável para armazenar o texto criptografado (ou decifrado)\n",
        "\n",
        "texto = texto.upper()     # Converter todo o texto em maiúsculas:\n",
        "\n",
        "for letra in texto:     # Código que será executdo em cada caractere do texto:\n",
        "  if letra==\" \":\n",
        "      convertido=convertido+letra\n",
        "  if letra in CARACTERES:\n",
        "    num = CARACTERES.find(letra) # Obter o número criptografado ou decriptado do caractere\n",
        "    if modo == 'E':                    # Obter o número do caractere\n",
        "      num = num + chave\n",
        "    if modo == 'D':\n",
        "      num = num - chave\n",
        "    if num >= len(CARACTERES):\n",
        "      num = num - len(CARACTERES)\n",
        "      convertido = convertido + CARACTERES[num]\n",
        "    if num < 0:      \n",
        "      num = num + len(CARACTERES)\n",
        "      convertido = convertido + CARACTERES[num] \n",
        "    if num>0 and num<len(CARACTERES):                                \n",
        "      convertido = convertido + CARACTERES[num]\n",
        "\n",
        "if modo == 'E':\n",
        "  print('O texto criptografado é ', convertido)\n",
        "if modo == 'D':\n",
        "  print('O texto decriptado é ', convertido)"
      ],
      "metadata": {
        "id": "2WfiysnkVQhi"
      },
      "execution_count": null,
      "outputs": []
    }
  ]
}